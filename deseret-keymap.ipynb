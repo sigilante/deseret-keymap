{
 "cells": [
  {
   "cell_type": "markdown",
   "id": "6b113896",
   "metadata": {},
   "source": [
    "#   An Optimized Deseret Keyboard\n",
    "\n",
    "A Deseret alphabet keyboard can be designed to follow principles of efficient typing by examining the frequency of letters and digraphs.\n",
    "\n",
    "The primary corpus for Deseret is the text of _The Book of Mormon_, _𐐜 𐐒𐐳𐐿 𐐱𐑂 𐐣𐐫𐑉𐑋𐐲𐑌_.  Professor Ryan Shosted of the University of Illinois has manually transcribed the 1869 typesetting by Orson Pratt\n",
    "\n",
    "There may be small differences in English pronunciation, particularly vowel usage, between the 1869 standard pronunciation and the 2023 “standard” American dialect.  In particular, Pratt hewed to the 1864 Webster's Dictionary for pronunciation.\n",
    "\n",
    "By taking into account grapheme and digraph frequency, we can intelligently design a keyboard that is easy to use for a “native” Deseret typist.  We follow [the design principles laid down by August Dvorak](https://en.wikipedia.org/wiki/Dvorak_keyboard_layout#Research_on_efficiency), and feel no need to adhere to the `QWERTY` layout since it is already an ill match for the Deseret alphabet."
   ]
  },
  {
   "cell_type": "markdown",
   "id": "91429038",
   "metadata": {},
   "source": [
    "##  Letter Count\n",
    "\n",
    "The Deseret alphabet is presented in 38-letter and 40-letter variations.  The latter differs by the addition of two new diphthong letters, `𐐦` Oi /ɔɪ/ and `𐐧` Ew /juː/.  Since the regular keyboard accommodates 26 letters, some pruning is necessary to accommodate Deseret on a Roman keyboard.\n",
    "\n",
    "With six short vowels and six long vowels, we can reduce the 40-character alphabet by six if we support long-press for the long vowels.  (These are not all of the vowels, but all of the short/long pairs.)\n",
    "\n",
    "| Short Vowel | Long Vowel |\n",
    "| ----------- | ---------- |\n",
    "| `𐐆` Short I /ɪ/ | `𐐀` Long I /iː/ |\n",
    "| `𐐇` Short E /ɛ/ | `𐐁` Long E /eɪ/ |\n",
    "| `𐐈` Short A /æ/ | `𐐂` Long A /ɑː/ |\n",
    "| `𐐉` Short Ah /ɒ/ | `𐐃` Long Ah /ɔː/ |\n",
    "| `𐐊` Short O /ʌ/ | `𐐄` Long O /oʊ/ |\n",
    "| `𐐋` Short Oo /ʊ/ | `𐐅` Long Oo /uː/ |\n",
    "\n",
    "We can also automatically generate certain digraphs; leaning on English-language conventions, we can reduce the 40-character alphabet by an additional eight characters.\n",
    "\n",
    "| Digraph | Reduction |\n",
    "| ------- | ------ |\n",
    "| `𐐤𐐘` NG /ŋ/ | `𐐥` Eng /ŋ/ |\n",
    "| `𐐝𐐐` SH /ʃ/ | `𐐟` Esh /ʃ/ |\n",
    "| `𐐗𐐐` CH /tʃ/ | `𐐕` Chee /tʃ/ |\n",
    "| `𐐓𐐐` TH /θ/ | `𐐛` Eth /θ/ |\n",
    "| `𐐔𐐐` DH /ð/ | `𐐜` Thee /ð/ |\n",
    "| `𐐞𐐐` ZH /ʒ/ | `𐐠` Zhee /ʒ/ |\n",
    "| `𐐉𐐆` OI /ɔɪ/ | `𐐦` Oi /ɔɪ/ |\n",
    "| `𐐆𐐋` IU /juː/ | `𐐧` Ew /juː/ |\n",
    "| `𐐏𐐋` YU /juː/ | `𐐧` Ew /juː/ |\n",
    "\n",
    "(Note that the last two reductions prefer the short vowel but actually correspond to the long vowel in Deseret.)"
   ]
  },
  {
   "cell_type": "markdown",
   "id": "68551dfb",
   "metadata": {},
   "source": [
    "##  Letter Layout\n",
    "\n",
    "The naïve approach taken by early fonts was to simply map Deseret letters to their “closest” Roman analogue, such as `𐐃`→`O` or `𐐓`→`T`.  This works reasonably well for a conventional `QWERTY` keyboard, but still requires many exceptions to be memorized.\n",
    "\n",
    "A more sophisticated approach, and the one which we employ here, is to utilize the known corpus frequency data and some typing design principles to produce a reasonably comfortable typing keyboard, one which a Deseret alphabet native would possibly create and enjoy.\n",
    "\n",
    "To this end, we first obtain grapheme and digraph frequency from _𐐜 𐐒𐐳𐐿 𐐱𐑂 𐐣𐐫𐑉𐑋𐐲𐑌_."
   ]
  },
  {
   "cell_type": "code",
   "execution_count": 68,
   "id": "e269c57c",
   "metadata": {},
   "outputs": [],
   "source": [
    "# Open The Book of Mormon corpus, through p. 153 of the 1869 edition.\n",
    "with open('DES-BOM-DES.txt', 'r') as workfile:\n",
    "    data = workfile.readlines()"
   ]
  },
  {
   "cell_type": "code",
   "execution_count": 69,
   "id": "3eadf6d8",
   "metadata": {},
   "outputs": [],
   "source": [
    "# Count the graphemes and digraphs in the text.  Omit punctuation, whitespace, and Roman characters.\n",
    "graph = {}\n",
    "digraph = {}\n",
    "\n",
    "for row in data:\n",
    "    row = row.upper()\n",
    "    for idx,char1 in enumerate(row):\n",
    "        if ord(char1) >= ord('𐐀') and ord(char1) <= ord('𐑏'):\n",
    "            if char1 in graph:\n",
    "                graph[char1] += 1\n",
    "            else:\n",
    "                graph[char1] = 1\n",
    "            try:\n",
    "                char2 = row[idx+1]\n",
    "                if ord(char2) >= ord('𐐀') and ord(char2) <= ord('𐑏'):\n",
    "                    char12 = char1 + char2\n",
    "                    if char12 in digraph:\n",
    "                        digraph[char12] += 1\n",
    "                    else:\n",
    "                        digraph[char12] = 1\n",
    "            except:\n",
    "                continue"
   ]
  },
  {
   "cell_type": "code",
   "execution_count": 70,
   "id": "364e43b7",
   "metadata": {},
   "outputs": [],
   "source": [
    "# Sanity check the results.\n",
    "\n",
    "assert '\\n'.join(data).upper().count('𐐠') == graph['𐐠']\n",
    "assert '\\n'.join(data).upper().count('𐐄') == graph['𐐄']\n",
    "assert '\\n'.join(data).upper().count('𐐣') == graph['𐐣']\n",
    "assert '\\n'.join(data).upper().count('𐐓') == graph['𐐓']\n",
    "assert '\\n'.join(data).upper().count('𐐤') == graph['𐐤']"
   ]
  },
  {
   "cell_type": "markdown",
   "id": "9450526d",
   "metadata": {},
   "source": [
    "Pratt did not utilize `𐐦` and `𐐧`, but we can infer their frequency from the appropriate digraphs.  (Since we will have the keyboard generate these, they are not strictly necessary for our analysis.)"
   ]
  },
  {
   "cell_type": "code",
   "execution_count": 71,
   "id": "48e232b2",
   "metadata": {},
   "outputs": [
    {
     "name": "stdout",
     "output_type": "stream",
     "text": [
      "351\n"
     ]
    }
   ],
   "source": [
    "graph['𐐦'] = digraph['𐐱𐐮'.upper()]\n",
    "print(graph['𐐦'])"
   ]
  },
  {
   "cell_type": "code",
   "execution_count": 72,
   "id": "f7c57d66",
   "metadata": {},
   "outputs": [
    {
     "name": "stdout",
     "output_type": "stream",
     "text": [
      "1172\n"
     ]
    }
   ],
   "source": [
    "graph['𐐧'] = digraph['𐐷𐐭'.upper()] + digraph['𐐮𐐭'.upper()]\n",
    "print(graph['𐐧'])"
   ]
  },
  {
   "cell_type": "code",
   "execution_count": 73,
   "id": "e2b60780",
   "metadata": {},
   "outputs": [],
   "source": [
    "# Produce a list by grapheme frequency.\n",
    "import operator\n",
    "graphlist = sorted(graph.items(), key=operator.itemgetter(1))"
   ]
  },
  {
   "cell_type": "code",
   "execution_count": 74,
   "id": "18ecfff1",
   "metadata": {},
   "outputs": [
    {
     "data": {
      "text/plain": [
       "[('𐐠', 45),\n",
       " ('𐐦', 351),\n",
       " ('𐐧', 1172),\n",
       " ('𐐖', 1345),\n",
       " ('𐐋', 1476),\n",
       " ('𐐕', 1898),\n",
       " ('𐐍', 1967),\n",
       " ('𐐏', 2021),\n",
       " ('𐐛', 2362),\n",
       " ('𐐘', 2667),\n",
       " ('𐐥', 2826),\n",
       " ('𐐟', 3075),\n",
       " ('𐐂', 3538),\n",
       " ('𐐃', 4742),\n",
       " ('𐐄', 4894),\n",
       " ('𐐑', 5942),\n",
       " ('𐐅', 6010),\n",
       " ('𐐙', 6025),\n",
       " ('𐐒', 6076),\n",
       " ('𐐎', 6154),\n",
       " ('𐐌', 6559),\n",
       " ('𐐗', 6837),\n",
       " ('𐐞', 7378),\n",
       " ('𐐚', 7995),\n",
       " ('𐐐', 8246),\n",
       " ('𐐁', 8400),\n",
       " ('𐐉', 8729),\n",
       " ('𐐀', 8904),\n",
       " ('𐐣', 10008),\n",
       " ('𐐊', 11388),\n",
       " ('𐐝', 12084),\n",
       " ('𐐢', 12145),\n",
       " ('𐐇', 13224),\n",
       " ('𐐜', 15963),\n",
       " ('𐐈', 16783),\n",
       " ('𐐆', 17016),\n",
       " ('𐐓', 18405),\n",
       " ('𐐔', 19004),\n",
       " ('𐐡', 20424),\n",
       " ('𐐤', 23737)]"
      ]
     },
     "execution_count": 74,
     "metadata": {},
     "output_type": "execute_result"
    }
   ],
   "source": [
    "graphlist"
   ]
  },
  {
   "cell_type": "code",
   "execution_count": 75,
   "id": "6091ee31",
   "metadata": {},
   "outputs": [],
   "source": [
    "# Produce a list by digraph frequency.\n",
    "digraphlist = sorted(digraph.items(), key=operator.itemgetter(1))"
   ]
  },
  {
   "cell_type": "code",
   "execution_count": 76,
   "id": "7c16403d",
   "metadata": {},
   "outputs": [
    {
     "data": {
      "text/plain": [
       "[('𐐙𐐃', 1161),\n",
       " ('𐐐𐐀', 1166),\n",
       " ('𐐆𐐢', 1187),\n",
       " ('𐐓𐐇', 1208),\n",
       " ('𐐃𐐢', 1217),\n",
       " ('𐐄𐐡', 1231),\n",
       " ('𐐎𐐊', 1235),\n",
       " ('𐐣𐐌', 1263),\n",
       " ('𐐇𐐣', 1302),\n",
       " ('𐐡𐐇', 1321),\n",
       " ('𐐟𐐈', 1321),\n",
       " ('𐐐𐐆', 1348),\n",
       " ('𐐢𐐔', 1404),\n",
       " ('𐐐𐐎', 1483),\n",
       " ('𐐒𐐀', 1510),\n",
       " ('𐐈𐐢', 1567),\n",
       " ('𐐗𐐊', 1589),\n",
       " ('𐐆𐐞', 1673),\n",
       " ('𐐆𐐓', 1733),\n",
       " ('𐐜𐐇', 1743),\n",
       " ('𐐁𐐡', 1831),\n",
       " ('𐐐𐐈', 1920),\n",
       " ('𐐡𐐔', 2221),\n",
       " ('𐐎𐐆', 2290),\n",
       " ('𐐆𐐥', 2314),\n",
       " ('𐐝𐐓', 2342),\n",
       " ('𐐜𐐈', 2409),\n",
       " ('𐐃𐐡', 2481),\n",
       " ('𐐜𐐁', 2526),\n",
       " ('𐐆𐐤', 2644),\n",
       " ('𐐈𐐓', 2660),\n",
       " ('𐐇𐐤', 2709),\n",
       " ('𐐤𐐓', 2831),\n",
       " ('𐐊𐐡', 2902),\n",
       " ('𐐇𐐡', 3174),\n",
       " ('𐐓𐐅', 3565),\n",
       " ('𐐊𐐤', 3817),\n",
       " ('𐐉𐐚', 4487),\n",
       " ('𐐈𐐤', 7476),\n",
       " ('𐐤𐐔', 7563)]"
      ]
     },
     "execution_count": 76,
     "metadata": {},
     "output_type": "execute_result"
    }
   ],
   "source": [
    "digraphlist[-40:]"
   ]
  },
  {
   "cell_type": "markdown",
   "id": "27fad861",
   "metadata": {},
   "source": [
    "August Dvorak laid down some intelligent principles for a keyboard (regardless of what one thinks of the actual Dvorak layout).\n",
    "\n",
    "- “Letters should be typed by alternating between hands (which makes typing more rhythmic, increases speed, reduces error, and reduces fatigue). On a Dvorak keyboard, vowels and the most used symbol characters are on the left (with the vowels on the home row), while the most used consonants are on the right.\n",
    "- “For maximum speed and efficiency, the most common letters and bigrams should be typed on the home row, where the fingers rest, and under the strongest fingers (Thus, about 70% of letter keyboard strokes on Dvorak are done on the home row and only 22% and 8% on the top and bottom rows respectively).\n",
    "- “The least common letters should be on the bottom row which is the hardest row to reach.\n",
    "- “The right hand should do more of the typing because most people are right-handed.\n",
    "- “Digraphs should not be typed with adjacent fingers.\n",
    "- “Stroking should generally move from the edges of the board to the middle.”\n",
    "\n",
    "We utilize the letter and digraph frequency data to tune a keyboard layout towards these features.  However, we will not follow Dvorak in moving the punctuation keys, which tends to frustrate typists."
   ]
  },
  {
   "cell_type": "markdown",
   "id": "48bd6c14",
   "metadata": {},
   "source": [
    "### Alternating Hands\n",
    "\n",
    "Dvorak preferred to situate vowels at left and consonants at right.  This yields two buckets for us:\n",
    "\n",
    "Vowels:\n",
    "\n",
    "```\n",
    "𐐀𐐁𐐂𐐃𐐄𐐅𐐆𐐇𐐈𐐉𐐊𐐋𐐌𐐍𐐦𐐧\n",
    "```\n",
    "\n",
    "Consonants:\n",
    "\n",
    "```\n",
    "𐐎𐐏𐐐𐐑𐐒𐐓𐐔𐐕𐐖𐐗𐐘𐐙𐐚𐐛𐐜𐐝𐐞𐐟𐐠𐐡𐐢𐐣𐐤𐐥\n",
    "```\n",
    "\n",
    "Applying our reductions from the first 26-letter consideration:\n",
    "\n",
    "Vowels:\n",
    "\n",
    "```\n",
    "𐐆𐐇𐐈𐐉𐐊𐐋𐐌𐐍\n",
    "```\n",
    "\n",
    "Consonants:\n",
    "\n",
    "```\n",
    "𐐎𐐏𐐐𐐑𐐒𐐓𐐔𐐕𐐖𐐗𐐘𐐙𐐚𐐝𐐞𐐡𐐢𐐤\n",
    "```"
   ]
  },
  {
   "cell_type": "markdown",
   "id": "e4e336f5",
   "metadata": {},
   "source": [
    "### Digraphs on Home Row\n",
    "\n",
    "The 100 most common digraphs include:\n",
    "\n",
    "`𐐤𐐔`, `𐐈𐐤`, `𐐉𐐚`, `𐐊𐐤`, `𐐓𐐅`, `𐐇𐐡`, `𐐊𐐡`, `𐐤𐐓`, `𐐇𐐤`, `𐐈𐐓`, `𐐆𐐤`, `𐐜𐐁`, `𐐃𐐡`, `𐐜𐐈`, `𐐝𐐓`, `𐐆𐐥`, `𐐎𐐆`, `𐐡𐐔`, `𐐐𐐈`, `𐐁𐐡`, `𐐜𐐇`, `𐐆𐐓`, `𐐆𐐞`, `𐐗𐐊`, `𐐈𐐢`, `𐐒𐐀`, `𐐐𐐎`, `𐐢𐐔`, `𐐐𐐆`, `𐐟𐐈`, `𐐡𐐇`, `𐐇𐐣`, `𐐣𐐌`, `𐐎𐐊`, `𐐄𐐡`, `𐐃𐐢`, `𐐓𐐇`, `𐐆𐐢`, `𐐐𐐀`, `𐐙𐐃`, `𐐡𐐆`, `𐐂𐐡`, `𐐇𐐔`, `𐐔𐐆`, `𐐡𐐀`, `𐐊𐐣`, `𐐇𐐝`, `𐐝𐐇`, `𐐣𐐇`, `𐐢𐐆`, `𐐓𐐝`, `𐐡𐐉`, `𐐇𐐢`, `𐐄𐐢`, `𐐣𐐊`, `𐐊𐐝`, `𐐢𐐃`, `𐐑𐐢`, `𐐁𐐣`, `𐐉𐐓`, `𐐈𐐚`, `𐐆𐐕`, `𐐙𐐄`, `𐐓𐐆`, `𐐔𐐇`, `𐐤𐐆`, `𐐋𐐔`, `𐐤𐐉`, `𐐑𐐡`, `𐐤𐐝`, `𐐢𐐁`, `𐐤𐐇`, `𐐀𐐑`, `𐐐𐐄`, `𐐑𐐀`, `𐐆𐐝`, `𐐊𐐑`, `𐐝𐐑`, `𐐂𐐝`, `𐐉𐐔`, `𐐎𐐁`, `𐐚𐐇`, `𐐓𐐡`, `𐐝𐐄`, `𐐏𐐅`, `𐐝𐐊`, `𐐘𐐉`, `𐐢𐐇`, `𐐗𐐃`, `𐐒𐐡`, `𐐆𐐣`, `𐐔𐐞`, `𐐆𐐔`, `𐐟𐐊`, `𐐆𐐜`, `𐐌𐐓`, `𐐀𐐐`, `𐐀𐐗`, `𐐣𐐈`, `𐐝𐐀`"
   ]
  },
  {
   "cell_type": "code",
   "execution_count": 88,
   "id": "2bb7f8d5",
   "metadata": {},
   "outputs": [
    {
     "name": "stdout",
     "output_type": "stream",
     "text": [
      "`𐐤𐐔`, `𐐈𐐤`, `𐐉𐐚`, `𐐊𐐤`, `𐐓𐐅`, `𐐇𐐡`, `𐐊𐐡`, `𐐤𐐓`, `𐐇𐐤`, `𐐈𐐓`, `𐐆𐐤`, `𐐜𐐁`, `𐐃𐐡`, `𐐜𐐈`, `𐐝𐐓`, `𐐆𐐥`, `𐐎𐐆`, `𐐡𐐔`, `𐐐𐐈`, `𐐁𐐡`, `𐐜𐐇`, `𐐆𐐓`, `𐐆𐐞`, `𐐗𐐊`, `𐐈𐐢`, `𐐒𐐀`, `𐐐𐐎`, `𐐢𐐔`, `𐐐𐐆`, `𐐟𐐈`, `𐐡𐐇`, `𐐇𐐣`, `𐐣𐐌`, `𐐎𐐊`, `𐐄𐐡`, `𐐃𐐢`, `𐐓𐐇`, `𐐆𐐢`, `𐐐𐐀`, `𐐙𐐃`, `𐐡𐐆`, `𐐂𐐡`, `𐐇𐐔`, `𐐔𐐆`, `𐐡𐐀`, `𐐊𐐣`, `𐐇𐐝`, `𐐝𐐇`, `𐐣𐐇`, `𐐢𐐆`, `𐐓𐐝`, `𐐡𐐉`, `𐐇𐐢`, `𐐄𐐢`, `𐐣𐐊`, `𐐊𐐝`, `𐐢𐐃`, `𐐑𐐢`, `𐐁𐐣`, `𐐉𐐓`, `𐐈𐐚`, `𐐆𐐕`, `𐐙𐐄`, `𐐓𐐆`, `𐐔𐐇`, `𐐤𐐆`, `𐐋𐐔`, `𐐤𐐉`, `𐐑𐐡`, `𐐤𐐝`, `𐐢𐐁`, `𐐤𐐇`, `𐐀𐐑`, `𐐐𐐄`, `𐐑𐐀`, `𐐆𐐝`, `𐐊𐐑`, `𐐝𐐑`, `𐐂𐐝`, `𐐉𐐔`, `𐐎𐐁`, `𐐚𐐇`, `𐐓𐐡`, `𐐝𐐄`, `𐐏𐐅`, `𐐝𐐊`, `𐐘𐐉`, `𐐢𐐇`, `𐐗𐐃`, `𐐒𐐡`, `𐐆𐐣`, `𐐔𐐞`, `𐐆𐐔`, `𐐟𐐊`, `𐐆𐐜`, `𐐌𐐓`, `𐐀𐐐`, `𐐀𐐗`, `𐐣𐐈`, `𐐝𐐀`, "
     ]
    }
   ],
   "source": [
    "for d,c in digraphlist[::-1][:100]:\n",
    "    print(f'`{d}`, ', end='')"
   ]
  },
  {
   "cell_type": "markdown",
   "id": "8fa7d85b",
   "metadata": {},
   "source": [
    "### Least Common Letters on Bottom Row\n",
    "\n",
    "The ten least common letters are:\n",
    "\n",
    "`𐐠`, `𐐦`, `𐐧`, `𐐖`, `𐐋`, `𐐕`, `𐐍`, `𐐏`, `𐐛`, `𐐘`, `𐐥`, `𐐟`, `𐐂`, `𐐃`, `𐐄`, `𐐑`, `𐐅`, `𐐙`\n",
    "\n",
    "Of these, `𐐦`, `𐐧`, `𐐕`, `𐐛`, `𐐥`, and `𐐟` are digraphs and can be excluded, as can long vowels `𐐂`, `𐐃`, `𐐄`, and `𐐅`.  This leaves us a seven-character bottom row:\n",
    "\n",
    "`𐐠`, `𐐖`, `𐐋`, `𐐍`, `𐐏`, `𐐑`, `𐐙`"
   ]
  },
  {
   "cell_type": "code",
   "execution_count": 101,
   "id": "a20dbffc",
   "metadata": {},
   "outputs": [
    {
     "name": "stdout",
     "output_type": "stream",
     "text": [
      "`𐐠`, `𐐦`, `𐐧`, `𐐖`, `𐐋`, `𐐕`, `𐐍`, `𐐏`, `𐐛`, `𐐘`, `𐐥`, `𐐟`, `𐐂`, `𐐃`, `𐐄`, `𐐑`, `𐐅`, `𐐙`, "
     ]
    }
   ],
   "source": [
    "for d,c in graphlist[:18]:\n",
    "    print(f'`{d}`, ', end='')"
   ]
  },
  {
   "cell_type": "markdown",
   "id": "513c50fe",
   "metadata": {},
   "source": [
    "### Right Hand Preferred\n",
    "\n",
    "No action."
   ]
  },
  {
   "cell_type": "markdown",
   "id": "ffce2afd",
   "metadata": {},
   "source": [
    "### Digraphs Not Adjacent\n",
    "\n",
    "Since we know the common digraphs, we can separate the letters by applying a weight against the pairs.  While not all digraph/key pairs may be avoidable, it should be possible to avoid all common instances."
   ]
  },
  {
   "cell_type": "markdown",
   "id": "740ea83c",
   "metadata": {},
   "source": [
    "### Inboard Stroke Flow\n",
    "\n",
    "Common key pairs and word structure should move from the edges of the keyboard towards the center, generally speaking.\n",
    "\n",
    "It seems to be of similar importance that long-stroke vowels not sit on weaker fingers."
   ]
  },
  {
   "cell_type": "markdown",
   "id": "8757f5f2",
   "metadata": {},
   "source": [
    "### Bottom Row\n",
    "\n",
    "We can situate the letters on the keyboard following the above principles.\n",
    "\n",
    "The easiest is the bottom row.  Per the above priorities, we suggest:\n",
    "\n",
    "`𐐖`, `𐐍`, `𐐋`, `𐐏`, `𐐑`, `𐐙`, `𐐠`\n",
    "\n",
    "The least common letters are located at the lower left, which is hardest for many typists to reach.  The long-press vowel and semi-vowel are at center.  Consonants are at right."
   ]
  },
  {
   "cell_type": "markdown",
   "id": "cd1895a2",
   "metadata": {},
   "source": [
    "### Home Row\n",
    "\n",
    "Home row is favored for common letters and common digraphs.  At this point, our field of possible keys includes:\n",
    "\n",
    "Vowels:\n",
    "\n",
    "```\n",
    "𐐆𐐇𐐈𐐉𐐊𐐌\n",
    "```\n",
    "\n",
    "Consonants:\n",
    "\n",
    "```\n",
    "𐐎𐐐𐐒𐐓𐐔𐐕𐐗𐐘𐐚𐐝𐐞𐐡𐐢𐐤\n",
    "```\n",
    "\n",
    "Common digraphs include:\n",
    "\n",
    "`𐐤𐐔`, `𐐈𐐤`, `𐐉𐐚`, `𐐊𐐤`, `𐐓𐐅`, `𐐇𐐡`, `𐐊𐐡`, `𐐤𐐓`, `𐐇𐐤`, `𐐈𐐓`, `𐐆𐐤`, `𐐜𐐁`, `𐐃𐐡`, `𐐜𐐈`, `𐐝𐐓`, `𐐆𐐥`, `𐐎𐐆`, `𐐡𐐔`, `𐐐𐐈`, `𐐁𐐡`, `𐐜𐐇`, `𐐆𐐓`, `𐐆𐐞`, `𐐗𐐊`, `𐐈𐐢`, `𐐒𐐀`, `𐐐𐐎`, `𐐢𐐔`, `𐐐𐐆`\n",
    "\n",
    "If we prefer vowels at left and long-press vowels towards center, and take into account digraph data for consonants, we arrive at the subset:\n",
    "\n",
    "```\n",
    "𐐆𐐇𐐈𐐉𐐊𐐔𐐤𐐓𐐡\n",
    "```\n",
    "\n",
    "We situate these as:\n",
    "\n",
    "`𐐓`, `𐐡`, `𐐆`, `𐐇`, `𐐈`, `𐐉`, `𐐊`, `𐐔`, `𐐤`"
   ]
  },
  {
   "cell_type": "markdown",
   "id": "9d35f310",
   "metadata": {},
   "source": [
    "### Top Row\n",
    "\n",
    "The remaining keys are:\n",
    "\n",
    "Vowels:\n",
    "\n",
    "```\n",
    "𐐌\n",
    "```\n",
    "\n",
    "Consonants:\n",
    "\n",
    "```\n",
    "𐐎𐐐𐐒𐐕𐐗𐐘𐐚𐐝𐐞𐐢\n",
    "```\n",
    "\n",
    "Mostly consonants, so we take into account digraphs heavily.\n",
    "\n",
    "`𐐗`, `𐐎`, `𐐌`, `𐐐`, `𐐒`, `𐐕`, `𐐘`, `𐐚`, `𐐝`, `𐐞`, `𐐢`\n",
    "\n",
    "(We permit ourself a small joke in the arrangement of the first four letters.)"
   ]
  },
  {
   "cell_type": "markdown",
   "id": "8aa1c890",
   "metadata": {},
   "source": [
    "##  Preliminary Keyboard Layout\n",
    "\n",
    "`𐐗`, `𐐎`, `𐐌`, `𐐐`, `𐐒`, `𐐕`, `𐐘`, `𐐚`, `𐐝`, `𐐞`, `𐐢`\n",
    "\n",
    "`𐐓`, `𐐡`, `𐐆`, `𐐇`, `𐐈`, `𐐉`, `𐐊`, `𐐔`, `𐐤`\n",
    "\n",
    "`𐐖`, `𐐍`, `𐐋`, `𐐏`, `𐐑`, `𐐙`, `𐐠`"
   ]
  }
 ],
 "metadata": {
  "kernelspec": {
   "display_name": "Python 3 (ipykernel)",
   "language": "python",
   "name": "python3"
  },
  "language_info": {
   "codemirror_mode": {
    "name": "ipython",
    "version": 3
   },
   "file_extension": ".py",
   "mimetype": "text/x-python",
   "name": "python",
   "nbconvert_exporter": "python",
   "pygments_lexer": "ipython3",
   "version": "3.9.7"
  }
 },
 "nbformat": 4,
 "nbformat_minor": 5
}
